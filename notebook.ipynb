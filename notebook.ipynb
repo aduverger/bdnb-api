{
 "cells": [
  {
   "cell_type": "code",
   "execution_count": 2,
   "metadata": {},
   "outputs": [],
   "source": [
    "from fastapi import FastAPI\n",
    "from fastapi.middleware.cors import CORSMiddleware\n",
    "import geopandas as gpd\n",
    "import math\n",
    "import json\n",
    "from geopy.geocoders import Nominatim\n",
    "from pyproj import Transformer\n",
    "import os\n"
   ]
  },
  {
   "cell_type": "code",
   "execution_count": 22,
   "metadata": {},
   "outputs": [
    {
     "data": {
      "text/plain": [
       "(652553.2142296537, 6860055.072311686, 655582.3990020527, 6863047.99080445)"
      ]
     },
     "execution_count": 22,
     "metadata": {},
     "output_type": "execute_result"
    }
   ],
   "source": [
    "geolocator = Nominatim(user_agent=\"bnbviz\")\n",
    "location = geolocator.geocode('5 rue de charonne, 75011 Paris, france')\n",
    "radius = 3\n",
    "x, y = location.latitude, location.longitude\n",
    "xmin = x - radius / (2 * 110.574)\n",
    "xmax = x + radius / (2 * 110.574)\n",
    "ymin = y - radius / (2 * 111.320 * math.cos(math.pi * x / 180))\n",
    "ymax = y + radius / (2 * 111.320 * math.cos(math.pi * x / 180))\n",
    "transformer = Transformer.from_crs(\"epsg:4326\", \"epsg:2154\")\n",
    "xmin, ymin = transformer.transform(xmin, ymin)\n",
    "xmax, ymax = transformer.transform(xmax, ymax)\n",
    "xmin, ymin, xmax, ymax"
   ]
  },
  {
   "cell_type": "code",
   "execution_count": 23,
   "metadata": {},
   "outputs": [],
   "source": [
    "gdf = gpd.read_file('data/bnb_export.gpkg', bbox=(xmin, ymin, xmax, ymax))\n",
    "gdf = gdf[\n",
    "        [\n",
    "            \"geometry\",\n",
    "            \"cerffo2020_annee_construction\",\n",
    "            \"adedpe202006_mean_class_conso_ener\",\n",
    "            \"adedpe202006_mean_conso_ener\",\n",
    "            \"adedpe202006_mean_class_estim_ges\",\n",
    "            \"adedpe202006_mean_estim_ges\",\n",
    "        ]\n",
    "    ]\n",
    "gdf.rename(\n",
    "    columns={\n",
    "        \"cerffo2020_annee_construction\": \"Année de construction\",\n",
    "        \"adedpe202006_mean_class_conso_ener\": \"Etiquette énergétique (DPE)\",\n",
    "        \"adedpe202006_mean_conso_ener\": \"Consommations énergétiques, kWhEP/m².an (DPE)\",\n",
    "        \"adedpe202006_mean_class_estim_ges\": \"Etiquette carbone (DPE)\",\n",
    "        \"adedpe202006_mean_estim_ges\": \"Emissions de GES, kgC02eq/m².an (DPE)\",\n",
    "    },\n",
    "    inplace=True,\n",
    ")"
   ]
  },
  {
   "cell_type": "code",
   "execution_count": 10,
   "metadata": {},
   "outputs": [],
   "source": [
    "import json"
   ]
  },
  {
   "cell_type": "code",
   "execution_count": 24,
   "metadata": {},
   "outputs": [],
   "source": [
    "with open('../bdnbviz/default_gdf3.json', 'w') as file:\n",
    "    data = json.loads(gdf.to_json())\n",
    "    json.dump(data, file)"
   ]
  },
  {
   "cell_type": "code",
   "execution_count": null,
   "metadata": {},
   "outputs": [],
   "source": []
  }
 ],
 "metadata": {
  "interpreter": {
   "hash": "d36b146617574bfb48e29fb1c80f47208e34f711904385a79868ab65fa2cc33b"
  },
  "kernelspec": {
   "display_name": "Python 3.8.12 64-bit ('geospatial')",
   "language": "python",
   "name": "python3"
  },
  "language_info": {
   "codemirror_mode": {
    "name": "ipython",
    "version": 3
   },
   "file_extension": ".py",
   "mimetype": "text/x-python",
   "name": "python",
   "nbconvert_exporter": "python",
   "pygments_lexer": "ipython3",
   "version": "3.8.12"
  },
  "orig_nbformat": 4
 },
 "nbformat": 4,
 "nbformat_minor": 2
}
